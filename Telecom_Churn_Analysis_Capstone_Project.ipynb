{
  "nbformat": 4,
  "nbformat_minor": 0,
  "metadata": {
    "kernelspec": {
      "display_name": "Python 3",
      "language": "python",
      "name": "python3"
    },
    "language_info": {
      "codemirror_mode": {
        "name": "ipython",
        "version": 3
      },
      "file_extension": ".py",
      "mimetype": "text/x-python",
      "name": "python",
      "nbconvert_exporter": "python",
      "pygments_lexer": "ipython3",
      "version": "3.6.6"
    },
    "colab": {
      "name": "Telecom Churn Analysis - Capstone Project.ipynb",
      "provenance": [],
      "collapsed_sections": [
        "-x0vaJDrZ7Kd",
        "3H6ek3aEaBFh",
        "SjrvV1e_QoZg",
        "Fj1aO2hjPusF",
        "oexRU5WAS-mQ",
        "HkOdnCYh9Ge9",
        "OzuPDttU9k79",
        "WBbq1q2G-KBf",
        "1O66zaMX-j5M",
        "dMYbzy_mZlZ6"
      ],
      "include_colab_link": true
    }
  },
  "cells": [
    {
      "cell_type": "markdown",
      "metadata": {
        "id": "view-in-github",
        "colab_type": "text"
      },
      "source": [
        "<a href=\"https://colab.research.google.com/github/khan441shahrukh/EDA-Telecom-Churn-Analysis/blob/main/Telecom_Churn_Analysis_Capstone_Project.ipynb\" target=\"_parent\"><img src=\"https://colab.research.google.com/assets/colab-badge.svg\" alt=\"Open In Colab\"/></a>"
      ]
    },
    {
      "cell_type": "markdown",
      "metadata": {
        "id": "Y06xIdG26kRF"
      },
      "source": [
        "## <b> Orange S.A., formerly France Télécom S.A., is a French multinational telecommunications corporation. The Orange Telecom's Churn Dataset, consists of cleaned customer activity data (features), along with a churn label specifying whether a customer canceled the subscription.\n",
        "\n",
        "## <b> Explore and analyze the data to discover key factors responsible for customer churn and come up with ways/recommendations to ensure customer retention. </b>"
      ]
    },
    {
      "cell_type": "markdown",
      "source": [
        "# Mount drive and Import CSV file"
      ],
      "metadata": {
        "id": "-x0vaJDrZ7Kd"
      }
    },
    {
      "cell_type": "code",
      "source": [
        "# mount the drive\n",
        "from google.colab import drive\n",
        "drive.mount('/content/drive')"
      ],
      "metadata": {
        "id": "bA5L-8bRWcAl",
        "outputId": "2b967199-688d-414e-e31b-5d065c243631",
        "colab": {
          "base_uri": "https://localhost:8080/"
        }
      },
      "execution_count": null,
      "outputs": [
        {
          "output_type": "stream",
          "name": "stdout",
          "text": [
            "Drive already mounted at /content/drive; to attempt to forcibly remount, call drive.mount(\"/content/drive\", force_remount=True).\n"
          ]
        }
      ]
    },
    {
      "cell_type": "code",
      "source": [
        "import pandas as pd\n",
        "# read csv file\n",
        "df = pd.read_csv('/content/drive/MyDrive/Almabetter/Python/Capstone Project 1/Telecom Churn.csv')"
      ],
      "metadata": {
        "id": "WpXr9qxQXFuK"
      },
      "execution_count": null,
      "outputs": []
    },
    {
      "cell_type": "markdown",
      "source": [
        "# Data Analysis"
      ],
      "metadata": {
        "id": "3H6ek3aEaBFh"
      }
    },
    {
      "cell_type": "code",
      "source": [
        "df.info() # basic info of the csv file"
      ],
      "metadata": {
        "colab": {
          "base_uri": "https://localhost:8080/"
        },
        "id": "47oIgl-4YCbH",
        "outputId": "edba6015-ec25-47a7-816f-25f4811843ce"
      },
      "execution_count": null,
      "outputs": [
        {
          "output_type": "stream",
          "name": "stdout",
          "text": [
            "<class 'pandas.core.frame.DataFrame'>\n",
            "RangeIndex: 3333 entries, 0 to 3332\n",
            "Data columns (total 20 columns):\n",
            " #   Column                  Non-Null Count  Dtype  \n",
            "---  ------                  --------------  -----  \n",
            " 0   State                   3333 non-null   object \n",
            " 1   Account length          3333 non-null   int64  \n",
            " 2   Area code               3333 non-null   int64  \n",
            " 3   International plan      3333 non-null   object \n",
            " 4   Voice mail plan         3333 non-null   object \n",
            " 5   Number vmail messages   3333 non-null   int64  \n",
            " 6   Total day minutes       3333 non-null   float64\n",
            " 7   Total day calls         3333 non-null   int64  \n",
            " 8   Total day charge        3333 non-null   float64\n",
            " 9   Total eve minutes       3333 non-null   float64\n",
            " 10  Total eve calls         3333 non-null   int64  \n",
            " 11  Total eve charge        3333 non-null   float64\n",
            " 12  Total night minutes     3333 non-null   float64\n",
            " 13  Total night calls       3333 non-null   int64  \n",
            " 14  Total night charge      3333 non-null   float64\n",
            " 15  Total intl minutes      3333 non-null   float64\n",
            " 16  Total intl calls        3333 non-null   int64  \n",
            " 17  Total intl charge       3333 non-null   float64\n",
            " 18  Customer service calls  3333 non-null   int64  \n",
            " 19  Churn                   3333 non-null   bool   \n",
            "dtypes: bool(1), float64(8), int64(8), object(3)\n",
            "memory usage: 498.1+ KB\n"
          ]
        }
      ]
    },
    {
      "cell_type": "code",
      "source": [
        "# print 1st 4 rows of csv file\n",
        "df.head(4) "
      ],
      "metadata": {
        "colab": {
          "base_uri": "https://localhost:8080/"
        },
        "id": "Lksa-BBNYFOf",
        "outputId": "f27c2d07-26fb-4340-e106-a7f537a53954"
      },
      "execution_count": null,
      "outputs": [
        {
          "output_type": "execute_result",
          "data": {
            "text/plain": [
              "  State  Account length  Area code International plan Voice mail plan  \\\n",
              "0    KS             128        415                 No             Yes   \n",
              "1    OH             107        415                 No             Yes   \n",
              "2    NJ             137        415                 No              No   \n",
              "3    OH              84        408                Yes              No   \n",
              "\n",
              "   Number vmail messages  Total day minutes  Total day calls  \\\n",
              "0                     25              265.1              110   \n",
              "1                     26              161.6              123   \n",
              "2                      0              243.4              114   \n",
              "3                      0              299.4               71   \n",
              "\n",
              "   Total day charge  Total eve minutes  Total eve calls  Total eve charge  \\\n",
              "0             45.07              197.4               99             16.78   \n",
              "1             27.47              195.5              103             16.62   \n",
              "2             41.38              121.2              110             10.30   \n",
              "3             50.90               61.9               88              5.26   \n",
              "\n",
              "   Total night minutes  Total night calls  Total night charge  \\\n",
              "0                244.7                 91               11.01   \n",
              "1                254.4                103               11.45   \n",
              "2                162.6                104                7.32   \n",
              "3                196.9                 89                8.86   \n",
              "\n",
              "   Total intl minutes  Total intl calls  Total intl charge  \\\n",
              "0                10.0                 3               2.70   \n",
              "1                13.7                 3               3.70   \n",
              "2                12.2                 5               3.29   \n",
              "3                 6.6                 7               1.78   \n",
              "\n",
              "   Customer service calls  Churn  \n",
              "0                       1  False  \n",
              "1                       1  False  \n",
              "2                       0  False  \n",
              "3                       2  False  "
            ],
            "text/html": [
              "\n",
              "  <div id=\"df-87e4f062-78ef-445b-9f2c-291c5869de4f\">\n",
              "    <div class=\"colab-df-container\">\n",
              "      <div>\n",
              "<style scoped>\n",
              "    .dataframe tbody tr th:only-of-type {\n",
              "        vertical-align: middle;\n",
              "    }\n",
              "\n",
              "    .dataframe tbody tr th {\n",
              "        vertical-align: top;\n",
              "    }\n",
              "\n",
              "    .dataframe thead th {\n",
              "        text-align: right;\n",
              "    }\n",
              "</style>\n",
              "<table border=\"1\" class=\"dataframe\">\n",
              "  <thead>\n",
              "    <tr style=\"text-align: right;\">\n",
              "      <th></th>\n",
              "      <th>State</th>\n",
              "      <th>Account length</th>\n",
              "      <th>Area code</th>\n",
              "      <th>International plan</th>\n",
              "      <th>Voice mail plan</th>\n",
              "      <th>Number vmail messages</th>\n",
              "      <th>Total day minutes</th>\n",
              "      <th>Total day calls</th>\n",
              "      <th>Total day charge</th>\n",
              "      <th>Total eve minutes</th>\n",
              "      <th>Total eve calls</th>\n",
              "      <th>Total eve charge</th>\n",
              "      <th>Total night minutes</th>\n",
              "      <th>Total night calls</th>\n",
              "      <th>Total night charge</th>\n",
              "      <th>Total intl minutes</th>\n",
              "      <th>Total intl calls</th>\n",
              "      <th>Total intl charge</th>\n",
              "      <th>Customer service calls</th>\n",
              "      <th>Churn</th>\n",
              "    </tr>\n",
              "  </thead>\n",
              "  <tbody>\n",
              "    <tr>\n",
              "      <th>0</th>\n",
              "      <td>KS</td>\n",
              "      <td>128</td>\n",
              "      <td>415</td>\n",
              "      <td>No</td>\n",
              "      <td>Yes</td>\n",
              "      <td>25</td>\n",
              "      <td>265.1</td>\n",
              "      <td>110</td>\n",
              "      <td>45.07</td>\n",
              "      <td>197.4</td>\n",
              "      <td>99</td>\n",
              "      <td>16.78</td>\n",
              "      <td>244.7</td>\n",
              "      <td>91</td>\n",
              "      <td>11.01</td>\n",
              "      <td>10.0</td>\n",
              "      <td>3</td>\n",
              "      <td>2.70</td>\n",
              "      <td>1</td>\n",
              "      <td>False</td>\n",
              "    </tr>\n",
              "    <tr>\n",
              "      <th>1</th>\n",
              "      <td>OH</td>\n",
              "      <td>107</td>\n",
              "      <td>415</td>\n",
              "      <td>No</td>\n",
              "      <td>Yes</td>\n",
              "      <td>26</td>\n",
              "      <td>161.6</td>\n",
              "      <td>123</td>\n",
              "      <td>27.47</td>\n",
              "      <td>195.5</td>\n",
              "      <td>103</td>\n",
              "      <td>16.62</td>\n",
              "      <td>254.4</td>\n",
              "      <td>103</td>\n",
              "      <td>11.45</td>\n",
              "      <td>13.7</td>\n",
              "      <td>3</td>\n",
              "      <td>3.70</td>\n",
              "      <td>1</td>\n",
              "      <td>False</td>\n",
              "    </tr>\n",
              "    <tr>\n",
              "      <th>2</th>\n",
              "      <td>NJ</td>\n",
              "      <td>137</td>\n",
              "      <td>415</td>\n",
              "      <td>No</td>\n",
              "      <td>No</td>\n",
              "      <td>0</td>\n",
              "      <td>243.4</td>\n",
              "      <td>114</td>\n",
              "      <td>41.38</td>\n",
              "      <td>121.2</td>\n",
              "      <td>110</td>\n",
              "      <td>10.30</td>\n",
              "      <td>162.6</td>\n",
              "      <td>104</td>\n",
              "      <td>7.32</td>\n",
              "      <td>12.2</td>\n",
              "      <td>5</td>\n",
              "      <td>3.29</td>\n",
              "      <td>0</td>\n",
              "      <td>False</td>\n",
              "    </tr>\n",
              "    <tr>\n",
              "      <th>3</th>\n",
              "      <td>OH</td>\n",
              "      <td>84</td>\n",
              "      <td>408</td>\n",
              "      <td>Yes</td>\n",
              "      <td>No</td>\n",
              "      <td>0</td>\n",
              "      <td>299.4</td>\n",
              "      <td>71</td>\n",
              "      <td>50.90</td>\n",
              "      <td>61.9</td>\n",
              "      <td>88</td>\n",
              "      <td>5.26</td>\n",
              "      <td>196.9</td>\n",
              "      <td>89</td>\n",
              "      <td>8.86</td>\n",
              "      <td>6.6</td>\n",
              "      <td>7</td>\n",
              "      <td>1.78</td>\n",
              "      <td>2</td>\n",
              "      <td>False</td>\n",
              "    </tr>\n",
              "  </tbody>\n",
              "</table>\n",
              "</div>\n",
              "      <button class=\"colab-df-convert\" onclick=\"convertToInteractive('df-87e4f062-78ef-445b-9f2c-291c5869de4f')\"\n",
              "              title=\"Convert this dataframe to an interactive table.\"\n",
              "              style=\"display:none;\">\n",
              "        \n",
              "  <svg xmlns=\"http://www.w3.org/2000/svg\" height=\"24px\"viewBox=\"0 0 24 24\"\n",
              "       width=\"24px\">\n",
              "    <path d=\"M0 0h24v24H0V0z\" fill=\"none\"/>\n",
              "    <path d=\"M18.56 5.44l.94 2.06.94-2.06 2.06-.94-2.06-.94-.94-2.06-.94 2.06-2.06.94zm-11 1L8.5 8.5l.94-2.06 2.06-.94-2.06-.94L8.5 2.5l-.94 2.06-2.06.94zm10 10l.94 2.06.94-2.06 2.06-.94-2.06-.94-.94-2.06-.94 2.06-2.06.94z\"/><path d=\"M17.41 7.96l-1.37-1.37c-.4-.4-.92-.59-1.43-.59-.52 0-1.04.2-1.43.59L10.3 9.45l-7.72 7.72c-.78.78-.78 2.05 0 2.83L4 21.41c.39.39.9.59 1.41.59.51 0 1.02-.2 1.41-.59l7.78-7.78 2.81-2.81c.8-.78.8-2.07 0-2.86zM5.41 20L4 18.59l7.72-7.72 1.47 1.35L5.41 20z\"/>\n",
              "  </svg>\n",
              "      </button>\n",
              "      \n",
              "  <style>\n",
              "    .colab-df-container {\n",
              "      display:flex;\n",
              "      flex-wrap:wrap;\n",
              "      gap: 12px;\n",
              "    }\n",
              "\n",
              "    .colab-df-convert {\n",
              "      background-color: #E8F0FE;\n",
              "      border: none;\n",
              "      border-radius: 50%;\n",
              "      cursor: pointer;\n",
              "      display: none;\n",
              "      fill: #1967D2;\n",
              "      height: 32px;\n",
              "      padding: 0 0 0 0;\n",
              "      width: 32px;\n",
              "    }\n",
              "\n",
              "    .colab-df-convert:hover {\n",
              "      background-color: #E2EBFA;\n",
              "      box-shadow: 0px 1px 2px rgba(60, 64, 67, 0.3), 0px 1px 3px 1px rgba(60, 64, 67, 0.15);\n",
              "      fill: #174EA6;\n",
              "    }\n",
              "\n",
              "    [theme=dark] .colab-df-convert {\n",
              "      background-color: #3B4455;\n",
              "      fill: #D2E3FC;\n",
              "    }\n",
              "\n",
              "    [theme=dark] .colab-df-convert:hover {\n",
              "      background-color: #434B5C;\n",
              "      box-shadow: 0px 1px 3px 1px rgba(0, 0, 0, 0.15);\n",
              "      filter: drop-shadow(0px 1px 2px rgba(0, 0, 0, 0.3));\n",
              "      fill: #FFFFFF;\n",
              "    }\n",
              "  </style>\n",
              "\n",
              "      <script>\n",
              "        const buttonEl =\n",
              "          document.querySelector('#df-87e4f062-78ef-445b-9f2c-291c5869de4f button.colab-df-convert');\n",
              "        buttonEl.style.display =\n",
              "          google.colab.kernel.accessAllowed ? 'block' : 'none';\n",
              "\n",
              "        async function convertToInteractive(key) {\n",
              "          const element = document.querySelector('#df-87e4f062-78ef-445b-9f2c-291c5869de4f');\n",
              "          const dataTable =\n",
              "            await google.colab.kernel.invokeFunction('convertToInteractive',\n",
              "                                                     [key], {});\n",
              "          if (!dataTable) return;\n",
              "\n",
              "          const docLinkHtml = 'Like what you see? Visit the ' +\n",
              "            '<a target=\"_blank\" href=https://colab.research.google.com/notebooks/data_table.ipynb>data table notebook</a>'\n",
              "            + ' to learn more about interactive tables.';\n",
              "          element.innerHTML = '';\n",
              "          dataTable['output_type'] = 'display_data';\n",
              "          await google.colab.output.renderOutput(dataTable, element);\n",
              "          const docLink = document.createElement('div');\n",
              "          docLink.innerHTML = docLinkHtml;\n",
              "          element.appendChild(docLink);\n",
              "        }\n",
              "      </script>\n",
              "    </div>\n",
              "  </div>\n",
              "  "
            ]
          },
          "metadata": {},
          "execution_count": 49
        }
      ]
    },
    {
      "cell_type": "code",
      "source": [
        "# Shape i.e. no of rows and column in csv file data\n",
        "df.shape"
      ],
      "metadata": {
        "colab": {
          "base_uri": "https://localhost:8080/"
        },
        "id": "U4LPbDIyYugX",
        "outputId": "ca6640f3-6968-47d9-ac4f-885e8b7c0a44"
      },
      "execution_count": null,
      "outputs": [
        {
          "output_type": "execute_result",
          "data": {
            "text/plain": [
              "(3333, 20)"
            ]
          },
          "metadata": {},
          "execution_count": 50
        }
      ]
    },
    {
      "cell_type": "code",
      "source": [
        "# to get no of null values in each column\n",
        "df.isnull().sum() \n"
      ],
      "metadata": {
        "colab": {
          "base_uri": "https://localhost:8080/"
        },
        "id": "NlIcmktMZZL-",
        "outputId": "08d5449b-f78a-459f-f298-eae22172adc7"
      },
      "execution_count": null,
      "outputs": [
        {
          "output_type": "execute_result",
          "data": {
            "text/plain": [
              "State                     0\n",
              "Account length            0\n",
              "Area code                 0\n",
              "International plan        0\n",
              "Voice mail plan           0\n",
              "Number vmail messages     0\n",
              "Total day minutes         0\n",
              "Total day calls           0\n",
              "Total day charge          0\n",
              "Total eve minutes         0\n",
              "Total eve calls           0\n",
              "Total eve charge          0\n",
              "Total night minutes       0\n",
              "Total night calls         0\n",
              "Total night charge        0\n",
              "Total intl minutes        0\n",
              "Total intl calls          0\n",
              "Total intl charge         0\n",
              "Customer service calls    0\n",
              "Churn                     0\n",
              "dtype: int64"
            ]
          },
          "metadata": {},
          "execution_count": 51
        }
      ]
    },
    {
      "cell_type": "code",
      "source": [
        "# No of unique values in each column\n",
        "df.nunique()"
      ],
      "metadata": {
        "colab": {
          "base_uri": "https://localhost:8080/"
        },
        "id": "4xRB-Jq4aSqv",
        "outputId": "8810b0e1-eab0-4425-b37f-0c2fdd8b08d1"
      },
      "execution_count": null,
      "outputs": [
        {
          "output_type": "execute_result",
          "data": {
            "text/plain": [
              "State                       51\n",
              "Account length             212\n",
              "Area code                    3\n",
              "International plan           2\n",
              "Voice mail plan              2\n",
              "Number vmail messages       46\n",
              "Total day minutes         1667\n",
              "Total day calls            119\n",
              "Total day charge          1667\n",
              "Total eve minutes         1611\n",
              "Total eve calls            123\n",
              "Total eve charge          1440\n",
              "Total night minutes       1591\n",
              "Total night calls          120\n",
              "Total night charge         933\n",
              "Total intl minutes         162\n",
              "Total intl calls            21\n",
              "Total intl charge          162\n",
              "Customer service calls      10\n",
              "Churn                        2\n",
              "dtype: int64"
            ]
          },
          "metadata": {},
          "execution_count": 52
        }
      ]
    },
    {
      "cell_type": "code",
      "source": [
        "# name of column\n",
        "print(df.columns.tolist())"
      ],
      "metadata": {
        "colab": {
          "base_uri": "https://localhost:8080/"
        },
        "id": "phtTZwd_JggN",
        "outputId": "59366f63-37b6-41ac-d622-740d477b5972"
      },
      "execution_count": null,
      "outputs": [
        {
          "output_type": "stream",
          "name": "stdout",
          "text": [
            "['State', 'Account length', 'Area code', 'International plan', 'Voice mail plan', 'Number vmail messages', 'Total day minutes', 'Total day calls', 'Total day charge', 'Total eve minutes', 'Total eve calls', 'Total eve charge', 'Total night minutes', 'Total night calls', 'Total night charge', 'Total intl minutes', 'Total intl calls', 'Total intl charge', 'Customer service calls', 'Churn']\n"
          ]
        }
      ]
    },
    {
      "cell_type": "code",
      "source": [
        "print (\"Rows     : \" ,df.shape[0])\n",
        "print (\"Columns  : \" ,df.shape[1])\n",
        "print (\"\\nFeatures : \\n\" ,df.columns.tolist())\n",
        "print (\"\\nMissing values :  \", df.isnull().sum().values.sum())\n"
      ],
      "metadata": {
        "colab": {
          "base_uri": "https://localhost:8080/"
        },
        "id": "psFbE3HzYoph",
        "outputId": "cb39a569-6547-4a1d-a42f-d11b915c4a5d"
      },
      "execution_count": null,
      "outputs": [
        {
          "output_type": "stream",
          "name": "stdout",
          "text": [
            "Rows     :  3333\n",
            "Columns  :  20\n",
            "\n",
            "Features : \n",
            " ['State', 'Account length', 'Area code', 'International plan', 'Voice mail plan', 'Number vmail messages', 'Total day minutes', 'Total day calls', 'Total day charge', 'Total eve minutes', 'Total eve calls', 'Total eve charge', 'Total night minutes', 'Total night calls', 'Total night charge', 'Total intl minutes', 'Total intl calls', 'Total intl charge', 'Customer service calls', 'Churn']\n",
            "\n",
            "Missing values :   0\n"
          ]
        }
      ]
    },
    {
      "cell_type": "markdown",
      "source": [
        "1.2 Variable Breakdown\n",
        " \n",
        "\n",
        "1. State - 51 Unique States in United States of America\n",
        "\n",
        "2. Account Length - Length of The Account\n",
        "\n",
        "3. Area Code - 415 relates to San Francisco,408 is of San Jose and 510 is of City of Okland\n",
        "\n",
        "4. International Plan - Yes Indicate International Plan is Present and No Indicates no subscription for Internatinal Plan\n",
        "\n",
        "5. Voice Mail Plan - Yes Indicates Voice Mail Plan is Present and No Indicates no subscription for Voice Mail Plan\n",
        "\n",
        "6. Number vmail messages - Number of Voice Mail Messages ranging from 0 to 50\n",
        "\n",
        "7. Total day minutes - Total Number of Minutes Spent By Customers in Morning\n",
        "\n",
        "8. Total day calls - Total Number of Calls made by Customer in Morning.\n",
        "\n",
        "9. Total day charge - Total Charge to the Customers in Morning.\n",
        "\n",
        "10. Total eve minutes - Total Number of Minutes Spent By Customers in Evening\n",
        "\n",
        "11. Total eve calls - Total Number of Calls made by Customer in Evening.\n",
        "\n",
        "12. Total eve charge - Total Charge to the Customers in Morning.\n",
        "\n",
        "13. Total night minutes - Total Number of Minutes Spent By Customers in the Night.\n",
        "\n",
        "14. Total night calls - Total Number of Calls made by Customer in Night.\n",
        "\n",
        "15. Total night charge - Total Charge to the Customers in Night."
      ],
      "metadata": {
        "id": "tc9Y1PFNc09Y"
      }
    },
    {
      "cell_type": "code",
      "source": [
        "#Separating churn and non churn customers\n",
        "churn     = df[df[\"Churn\"] == bool(True)]\n",
        "not_churn = df[df[\"Churn\"] == bool(False)]"
      ],
      "metadata": {
        "id": "Dseknz8xcvNG"
      },
      "execution_count": null,
      "outputs": []
    },
    {
      "cell_type": "code",
      "source": [
        "# No of churn and non churn customers\n",
        "print (\"No of churn customer     : \" ,churn.shape[0])\n",
        "print (\"No of non-churn customer     : \" ,not_churn.shape[0])"
      ],
      "metadata": {
        "colab": {
          "base_uri": "https://localhost:8080/"
        },
        "id": "mBo0dfhlhFh-",
        "outputId": "53476074-633b-4868-f0c3-376e4ef8990d"
      },
      "execution_count": null,
      "outputs": [
        {
          "output_type": "stream",
          "name": "stdout",
          "text": [
            "No of churn customer     :  483\n",
            "No of non-churn customer     :  2850\n"
          ]
        }
      ]
    },
    {
      "cell_type": "code",
      "source": [
        "churn.shape"
      ],
      "metadata": {
        "colab": {
          "base_uri": "https://localhost:8080/"
        },
        "id": "eoD0zzTOO7Jr",
        "outputId": "110ceb3b-cc90-409a-b40b-9da40914c951"
      },
      "execution_count": null,
      "outputs": [
        {
          "output_type": "execute_result",
          "data": {
            "text/plain": [
              "(483, 20)"
            ]
          },
          "metadata": {},
          "execution_count": 57
        }
      ]
    },
    {
      "cell_type": "code",
      "source": [
        "#Area Code\n",
        "df['Area code'].unique()"
      ],
      "metadata": {
        "colab": {
          "base_uri": "https://localhost:8080/"
        },
        "id": "1O0YasdDir83",
        "outputId": "c5c58d24-4dcf-49dd-c7ae-4c74c806bbf6"
      },
      "execution_count": null,
      "outputs": [
        {
          "output_type": "execute_result",
          "data": {
            "text/plain": [
              "array([415, 408, 510])"
            ]
          },
          "metadata": {},
          "execution_count": 58
        }
      ]
    },
    {
      "cell_type": "markdown",
      "source": [
        "# Churn because of customer care calls."
      ],
      "metadata": {
        "id": "SjrvV1e_QoZg"
      }
    },
    {
      "cell_type": "code",
      "source": [
        "not_churn['Customer service calls'].unique()"
      ],
      "metadata": {
        "colab": {
          "base_uri": "https://localhost:8080/"
        },
        "id": "rSa040vXjtKt",
        "outputId": "b042946b-c46b-4c00-bf7f-1a32cb8e3c34"
      },
      "execution_count": null,
      "outputs": [
        {
          "output_type": "execute_result",
          "data": {
            "text/plain": [
              "array([1, 0, 2, 3, 4, 5, 7, 6, 8])"
            ]
          },
          "metadata": {},
          "execution_count": 59
        }
      ]
    },
    {
      "cell_type": "code",
      "source": [
        "# This is max no of customer care call to non-churn customer\n",
        "max(list(not_churn['Customer service calls'].unique())) "
      ],
      "metadata": {
        "colab": {
          "base_uri": "https://localhost:8080/"
        },
        "id": "lP0tvT8PPwdM",
        "outputId": "57506861-9e64-4532-a159-fc6038308473"
      },
      "execution_count": null,
      "outputs": [
        {
          "output_type": "execute_result",
          "data": {
            "text/plain": [
              "8"
            ]
          },
          "metadata": {},
          "execution_count": 60
        }
      ]
    },
    {
      "cell_type": "code",
      "source": [
        "churn['Customer service calls'].unique() "
      ],
      "metadata": {
        "colab": {
          "base_uri": "https://localhost:8080/"
        },
        "id": "iCIxzxpNkNiF",
        "outputId": "64ba8f62-dca0-49a2-d731-863a7d5e2738"
      },
      "execution_count": null,
      "outputs": [
        {
          "output_type": "execute_result",
          "data": {
            "text/plain": [
              "array([4, 5, 1, 0, 3, 2, 7, 9, 6, 8])"
            ]
          },
          "metadata": {},
          "execution_count": 61
        }
      ]
    },
    {
      "cell_type": "code",
      "source": [
        "# This is max n of customer care call to churn customer\n",
        "max(list(churn['Customer service calls'].unique())) "
      ],
      "metadata": {
        "colab": {
          "base_uri": "https://localhost:8080/"
        },
        "id": "dLD5FIygP9PN",
        "outputId": "ab51243c-7bfd-46ec-b3a4-0a8d7c01e954"
      },
      "execution_count": null,
      "outputs": [
        {
          "output_type": "execute_result",
          "data": {
            "text/plain": [
              "9"
            ]
          },
          "metadata": {},
          "execution_count": 62
        }
      ]
    },
    {
      "cell_type": "markdown",
      "source": [
        "We can see from above anaysis that no of Calls to Churn Customer is high as compared to Non Churn Customer.\n",
        "\n",
        "Recommendation -\n",
        "1. Customers should not be called more than 7 times.\n",
        "\n",
        "\n",
        "\n"
      ],
      "metadata": {
        "id": "LFk3uZHqQ8jb"
      }
    },
    {
      "cell_type": "markdown",
      "source": [
        "\n",
        "# Voice Mail Message Anaysis\n",
        "\n"
      ],
      "metadata": {
        "id": "Fj1aO2hjPusF"
      }
    },
    {
      "cell_type": "code",
      "source": [
        "#Replacing Yes/No values with 1 and 0\n",
        "# df['International plan'] = df['International plan'].replace({\"Yes\":1,\"No\":0}).astype(int)\n",
        "# df['Voice mail plan'] = df['Voice mail plan'].replace({\"Yes\":1,\"No\":0}).astype(int)"
      ],
      "metadata": {
        "id": "UX6ZhAE_rug8"
      },
      "execution_count": null,
      "outputs": []
    },
    {
      "cell_type": "code",
      "source": [
        "#Voice-Mail Feautre Messages\n",
        "print('Unique vmail messages',df['Number vmail messages'].unique())\n",
        "df['Number vmail messages'].describe()"
      ],
      "metadata": {
        "colab": {
          "base_uri": "https://localhost:8080/"
        },
        "id": "ABILhDGylYc3",
        "outputId": "f89a3b75-d258-4ec4-db48-adbe21c566fb"
      },
      "execution_count": null,
      "outputs": [
        {
          "output_type": "stream",
          "name": "stdout",
          "text": [
            "Unique vmail messages [25 26  0 24 37 27 33 39 30 41 28 34 46 29 35 21 32 42 36 22 23 43 31 38\n",
            " 40 48 18 17 45 16 20 14 19 51 15 11 12 47  8 44 49  4 10 13 50  9]\n"
          ]
        },
        {
          "output_type": "execute_result",
          "data": {
            "text/plain": [
              "count    3333.000000\n",
              "mean        8.099010\n",
              "std        13.688365\n",
              "min         0.000000\n",
              "25%         0.000000\n",
              "50%         0.000000\n",
              "75%        20.000000\n",
              "max        51.000000\n",
              "Name: Number vmail messages, dtype: float64"
            ]
          },
          "metadata": {},
          "execution_count": 64
        }
      ]
    },
    {
      "cell_type": "code",
      "source": [
        "import matplotlib.pyplot as plt\n",
        "import numpy as np\n",
        "%matplotlib inline\n",
        "\n",
        "\n",
        "plt.show()\n",
        "df.boxplot(column='Number vmail messages', by='Churn')"
      ],
      "metadata": {
        "colab": {
          "base_uri": "https://localhost:8080/"
        },
        "id": "0wxvg2CylzSE",
        "outputId": "0c05205d-9194-44a5-d792-a6a739a7322f"
      },
      "execution_count": null,
      "outputs": [
        {
          "output_type": "stream",
          "name": "stderr",
          "text": [
            "/usr/local/lib/python3.7/dist-packages/matplotlib/cbook/__init__.py:1376: VisibleDeprecationWarning: Creating an ndarray from ragged nested sequences (which is a list-or-tuple of lists-or-tuples-or ndarrays with different lengths or shapes) is deprecated. If you meant to do this, you must specify 'dtype=object' when creating the ndarray.\n",
            "  X = np.atleast_1d(X.T if isinstance(X, np.ndarray) else np.asarray(X))\n"
          ]
        },
        {
          "output_type": "execute_result",
          "data": {
            "text/plain": [
              "<matplotlib.axes._subplots.AxesSubplot at 0x7f34b6798390>"
            ]
          },
          "metadata": {},
          "execution_count": 65
        },
        {
          "output_type": "display_data",
          "data": {
            "text/plain": [
              "<Figure size 432x288 with 1 Axes>"
            ],
            "image/png": "[encoded data removed]"
          },
          "metadata": {
            "needs_background": "light"
          }
        }
      ]
    },
    {
      "cell_type": "markdown",
      "source": [
        "We can Notice for Voice-Mail Feature when there are more than 20 voice-mail messages then certainly there is a churn indicating improving the voice-mail feature or setting a limit and check whether a customer is retianed.\n",
        "\n",
        "Recommendations :\n",
        "1. Voice-Mail Service Upgradation \n",
        "2. Setting up a limit on Voice-Mail service strictly no more than 25 voice mails. \n",
        "3. Quality Drop in Voice-Mail after 25 voice mails."
      ],
      "metadata": {
        "id": "VZnKHxoVr8-c"
      }
    },
    {
      "cell_type": "markdown",
      "source": [
        "# Day Time Anaysis"
      ],
      "metadata": {
        "id": "oexRU5WAS-mQ"
      }
    },
    {
      "cell_type": "markdown",
      "source": [
        "**Total-Minutes in Day Affecting the Churn**"
      ],
      "metadata": {
        "id": "nYt6QLKU852c"
      }
    },
    {
      "cell_type": "code",
      "source": [
        "import matplotlib.pyplot as plt\n",
        "import numpy as np\n",
        "%matplotlib inline\n",
        "\n",
        "\n",
        "plt.show()\n",
        "df.boxplot(column='Total day minutes', by='Churn')"
      ],
      "metadata": {
        "colab": {
          "base_uri": "https://localhost:8080/"
        },
        "id": "6pWLEgninLY8",
        "outputId": "e111a234-014a-4ce3-b43c-c3b3969fab60"
      },
      "execution_count": null,
      "outputs": [
        {
          "output_type": "stream",
          "name": "stderr",
          "text": [
            "/usr/local/lib/python3.7/dist-packages/matplotlib/cbook/__init__.py:1376: VisibleDeprecationWarning: Creating an ndarray from ragged nested sequences (which is a list-or-tuple of lists-or-tuples-or ndarrays with different lengths or shapes) is deprecated. If you meant to do this, you must specify 'dtype=object' when creating the ndarray.\n",
            "  X = np.atleast_1d(X.T if isinstance(X, np.ndarray) else np.asarray(X))\n"
          ]
        },
        {
          "output_type": "execute_result",
          "data": {
            "text/plain": [
              "<matplotlib.axes._subplots.AxesSubplot at 0x7f34b5f30250>"
            ]
          },
          "metadata": {},
          "execution_count": 66
        },
        {
          "output_type": "display_data",
          "data": {
            "text/plain": [
              "<Figure size 432x288 with 1 Axes>"
            ],
            "image/png": "[encoded data removed]"
          },
          "metadata": {
            "needs_background": "light"
          }
        }
      ]
    },
    {
      "cell_type": "markdown",
      "source": [
        "We can infer from above box-plot that with users spending more 220 minutes or more i.e. approx 4hrs tend to switch to other operator.\n",
        "\n",
        "Solution - following would be the factors that should be implemented:\n",
        "\n",
        "1. Network Disturbance during a Call\n",
        "2. Cracking sound or noise during a call\n",
        "3. Need to Upgrade or make smarter use of technologies like VoLTE to improve Voice Quality.\n",
        "4. Network Upgradation"
      ],
      "metadata": {
        "id": "3hfAiOizsK38"
      }
    },
    {
      "cell_type": "markdown",
      "source": [
        "**Total no of calls in day affecting churn**"
      ],
      "metadata": {
        "id": "BRleIagtcJPX"
      }
    },
    {
      "cell_type": "code",
      "source": [
        "print('Maximum number of calls:',df['Total day calls'].max())\n",
        "print('Minimum number of calls:',df['Total day calls'].min())\n",
        "print('Average number of calls:',df['Total day calls'].mean())"
      ],
      "metadata": {
        "colab": {
          "base_uri": "https://localhost:8080/"
        },
        "id": "JFD0IGCjmzMN",
        "outputId": "cb615bca-6b06-43a7-a9f3-cbf5e5dab8c9"
      },
      "execution_count": null,
      "outputs": [
        {
          "output_type": "stream",
          "name": "stdout",
          "text": [
            "Maximum number of calls: 165\n",
            "Minimum number of calls: 0\n",
            "Average number of calls: 100.43564356435644\n"
          ]
        }
      ]
    },
    {
      "cell_type": "code",
      "source": [
        "plt.show()\n",
        "df.boxplot(column='Total day calls', by='Churn')"
      ],
      "metadata": {
        "colab": {
          "base_uri": "https://localhost:8080/"
        },
        "id": "tnO4t47riaLu",
        "outputId": "7ec5cb77-45d9-4555-e812-81faa471ce03"
      },
      "execution_count": null,
      "outputs": [
        {
          "output_type": "stream",
          "name": "stderr",
          "text": [
            "/usr/local/lib/python3.7/dist-packages/matplotlib/cbook/__init__.py:1376: VisibleDeprecationWarning: Creating an ndarray from ragged nested sequences (which is a list-or-tuple of lists-or-tuples-or ndarrays with different lengths or shapes) is deprecated. If you meant to do this, you must specify 'dtype=object' when creating the ndarray.\n",
            "  X = np.atleast_1d(X.T if isinstance(X, np.ndarray) else np.asarray(X))\n"
          ]
        },
        {
          "output_type": "execute_result",
          "data": {
            "text/plain": [
              "<matplotlib.axes._subplots.AxesSubplot at 0x7f34b5b93fd0>"
            ]
          },
          "metadata": {},
          "execution_count": 68
        },
        {
          "output_type": "display_data",
          "data": {
            "text/plain": [
              "<Figure size 432x288 with 1 Axes>"
            ],
            "image/png": "[encoded data removed]"
          },
          "metadata": {
            "needs_background": "light"
          }
        }
      ]
    },
    {
      "cell_type": "markdown",
      "source": [
        "We can infer here that on an average a 100 calls are made which is a good indication for the company.But we can also note that for the churn customer the median is slightly higher than 100 which indicates there are call drops which may lead to more calls in a morning"
      ],
      "metadata": {
        "id": "s4ZlrBNuvc3E"
      }
    },
    {
      "cell_type": "markdown",
      "source": [
        "**Day charges affecting the churn rate.**"
      ],
      "metadata": {
        "id": "3m3k2jxdTuhE"
      }
    },
    {
      "cell_type": "code",
      "source": [
        "print('Maximum number of charge:',df['Total day charge'].max())\n",
        "print('Minimum number of charge:',df['Total day charge'].min())\n",
        "print('Average number of charge:',df['Total day charge'].mean())"
      ],
      "metadata": {
        "colab": {
          "base_uri": "https://localhost:8080/"
        },
        "id": "KUWDSAfJvfkU",
        "outputId": "da8a9da4-25f0-4686-dc6c-0243d040cf52"
      },
      "execution_count": null,
      "outputs": [
        {
          "output_type": "stream",
          "name": "stdout",
          "text": [
            "Maximum number of charge: 59.64\n",
            "Minimum number of charge: 0.0\n",
            "Average number of charge: 30.562307230723093\n"
          ]
        }
      ]
    },
    {
      "cell_type": "code",
      "source": [
        "plt.show()\n",
        "df.boxplot(column='Total day charge', by='Churn') #people who pay more day charges leave the company"
      ],
      "metadata": {
        "colab": {
          "base_uri": "https://localhost:8080/"
        },
        "id": "STBz32SYvl0r",
        "outputId": "6fa40984-348e-4702-f949-5c0b663a017e"
      },
      "execution_count": null,
      "outputs": [
        {
          "output_type": "stream",
          "name": "stderr",
          "text": [
            "/usr/local/lib/python3.7/dist-packages/matplotlib/cbook/__init__.py:1376: VisibleDeprecationWarning: Creating an ndarray from ragged nested sequences (which is a list-or-tuple of lists-or-tuples-or ndarrays with different lengths or shapes) is deprecated. If you meant to do this, you must specify 'dtype=object' when creating the ndarray.\n",
            "  X = np.atleast_1d(X.T if isinstance(X, np.ndarray) else np.asarray(X))\n"
          ]
        },
        {
          "output_type": "execute_result",
          "data": {
            "text/plain": [
              "<matplotlib.axes._subplots.AxesSubplot at 0x7f34b5f82e10>"
            ]
          },
          "metadata": {},
          "execution_count": 70
        },
        {
          "output_type": "display_data",
          "data": {
            "text/plain": [
              "<Figure size 432x288 with 1 Axes>"
            ],
            "image/png": "[encoded data removed]"
          },
          "metadata": {
            "needs_background": "light"
          }
        }
      ]
    },
    {
      "cell_type": "markdown",
      "source": [
        "Well,Here we can clearly indicate a strategy a good strategy to be implemented. As from above infered box-plots we can conclude one thing i.e Customers having more minutes spent on the network tend to leave the it's subscription and from the above box-plot it clearly indicates that there is defect in the pricing startegy of the company.\n",
        "\n",
        "Solution -\n",
        "\n",
        "1. Startegy of pricing needs to be re-evaluated.\n",
        "2. The Clients who have high call minutes and calls need a discount in the end"
      ],
      "metadata": {
        "id": "fpGrYFb7vqAS"
      }
    },
    {
      "cell_type": "markdown",
      "source": [
        "# Evening time Analysis"
      ],
      "metadata": {
        "id": "HkOdnCYh9Ge9"
      }
    },
    {
      "cell_type": "markdown",
      "source": [
        "**Total-Minutes in Evening Affecting the Churn**"
      ],
      "metadata": {
        "id": "CX5ZSl5tV659"
      }
    },
    {
      "cell_type": "code",
      "source": [
        "print('Maximum number of minutes:',df['Total eve minutes'].max(),'i.e. Max number of Hours  spent:',round(df['Total eve minutes'].max()/60))\n",
        "print('Maximum number of minutes:',df['Total eve minutes'].min())\n",
        "print('Average number of minutes:',df['Total eve minutes'].mean())"
      ],
      "metadata": {
        "colab": {
          "base_uri": "https://localhost:8080/"
        },
        "id": "ImAziOMZv9Br",
        "outputId": "ef44f56c-73ec-4b5c-c2a2-bca52aa1aebd"
      },
      "execution_count": null,
      "outputs": [
        {
          "output_type": "stream",
          "name": "stdout",
          "text": [
            "Maximum number of minutes: 363.7 i.e. Max number of Hours  spent: 6\n",
            "Maximum number of minutes: 0.0\n",
            "Average number of minutes: 200.98034803480346\n"
          ]
        }
      ]
    },
    {
      "cell_type": "code",
      "source": [
        "plt.show()\n",
        "df.boxplot(column='Total eve minutes', by='Churn')"
      ],
      "metadata": {
        "id": "NPmGjCN0v_0r",
        "colab": {
          "base_uri": "https://localhost:8080/"
        },
        "outputId": "3328ef56-cf3a-4364-d7e7-8b2061d35b0d"
      },
      "execution_count": null,
      "outputs": [
        {
          "output_type": "stream",
          "name": "stderr",
          "text": [
            "/usr/local/lib/python3.7/dist-packages/matplotlib/cbook/__init__.py:1376: VisibleDeprecationWarning: Creating an ndarray from ragged nested sequences (which is a list-or-tuple of lists-or-tuples-or ndarrays with different lengths or shapes) is deprecated. If you meant to do this, you must specify 'dtype=object' when creating the ndarray.\n",
            "  X = np.atleast_1d(X.T if isinstance(X, np.ndarray) else np.asarray(X))\n"
          ]
        },
        {
          "output_type": "execute_result",
          "data": {
            "text/plain": [
              "<matplotlib.axes._subplots.AxesSubplot at 0x7f34b5e00350>"
            ]
          },
          "metadata": {},
          "execution_count": 72
        },
        {
          "output_type": "display_data",
          "data": {
            "text/plain": [
              "<Figure size 432x288 with 1 Axes>"
            ],
            "image/png": "[encoded data removed]"
          },
          "metadata": {
            "needs_background": "light"
          }
        }
      ]
    },
    {
      "cell_type": "markdown",
      "source": [
        "**No of calls in evening affecting churn**"
      ],
      "metadata": {
        "id": "pMkj_mTMXwAt"
      }
    },
    {
      "cell_type": "code",
      "source": [
        "print('Maximum number of calls:',df['Total eve calls'].max())\n",
        "print('Minimum number of calls:',df['Total eve calls'].min())\n",
        "print('Average number of calls:',df['Total eve calls'].mean())"
      ],
      "metadata": {
        "colab": {
          "base_uri": "https://localhost:8080/"
        },
        "id": "5d6-7AjO9N_V",
        "outputId": "5164f6f5-26da-44d3-a7c2-65d0b210e835"
      },
      "execution_count": null,
      "outputs": [
        {
          "output_type": "stream",
          "name": "stdout",
          "text": [
            "Maximum number of calls: 170\n",
            "Minimum number of calls: 0\n",
            "Average number of calls: 100.11431143114311\n"
          ]
        }
      ]
    },
    {
      "cell_type": "code",
      "source": [
        "plt.show()\n",
        "df.boxplot(column='Total eve calls', by='Churn')"
      ],
      "metadata": {
        "colab": {
          "base_uri": "https://localhost:8080/"
        },
        "id": "ivb8ym0b9Q8l",
        "outputId": "c48137dd-3db7-4fc3-e18d-9b039bb8e0dd"
      },
      "execution_count": null,
      "outputs": [
        {
          "output_type": "stream",
          "name": "stderr",
          "text": [
            "/usr/local/lib/python3.7/dist-packages/matplotlib/cbook/__init__.py:1376: VisibleDeprecationWarning: Creating an ndarray from ragged nested sequences (which is a list-or-tuple of lists-or-tuples-or ndarrays with different lengths or shapes) is deprecated. If you meant to do this, you must specify 'dtype=object' when creating the ndarray.\n",
            "  X = np.atleast_1d(X.T if isinstance(X, np.ndarray) else np.asarray(X))\n"
          ]
        },
        {
          "output_type": "execute_result",
          "data": {
            "text/plain": [
              "<matplotlib.axes._subplots.AxesSubplot at 0x7f34b6031850>"
            ]
          },
          "metadata": {},
          "execution_count": 74
        },
        {
          "output_type": "display_data",
          "data": {
            "text/plain": [
              "<Figure size 432x288 with 1 Axes>"
            ],
            "image/png": "[encoded data removed]"
          },
          "metadata": {
            "needs_background": "light"
          }
        }
      ]
    },
    {
      "cell_type": "markdown",
      "source": [
        "**Evening charges affecting the churn rate.**"
      ],
      "metadata": {
        "id": "NdgtFa1JVbJu"
      }
    },
    {
      "cell_type": "code",
      "source": [
        "print('Maximum number of charge:',df['Total eve charge'].max())\n",
        "print('Minimum number of charge:',df['Total eve charge'].min())\n",
        "print('Average number of charge:',df['Total eve charge'].mean())"
      ],
      "metadata": {
        "colab": {
          "base_uri": "https://localhost:8080/"
        },
        "id": "ECSFAPy19cLV",
        "outputId": "98511281-face-4621-8d84-626523f09853"
      },
      "execution_count": null,
      "outputs": [
        {
          "output_type": "stream",
          "name": "stdout",
          "text": [
            "Maximum number of charge: 30.91\n",
            "Minimum number of charge: 0.0\n",
            "Average number of charge: 17.083540354035392\n"
          ]
        }
      ]
    },
    {
      "cell_type": "code",
      "source": [
        "plt.show()\n",
        "df.boxplot(column='Total eve charge', by='Churn')"
      ],
      "metadata": {
        "colab": {
          "base_uri": "https://localhost:8080/"
        },
        "id": "RkBZFjzX9e5V",
        "outputId": "fdc3a498-9e64-48ad-c477-7718d809e837"
      },
      "execution_count": null,
      "outputs": [
        {
          "output_type": "stream",
          "name": "stderr",
          "text": [
            "/usr/local/lib/python3.7/dist-packages/matplotlib/cbook/__init__.py:1376: VisibleDeprecationWarning: Creating an ndarray from ragged nested sequences (which is a list-or-tuple of lists-or-tuples-or ndarrays with different lengths or shapes) is deprecated. If you meant to do this, you must specify 'dtype=object' when creating the ndarray.\n",
            "  X = np.atleast_1d(X.T if isinstance(X, np.ndarray) else np.asarray(X))\n"
          ]
        },
        {
          "output_type": "execute_result",
          "data": {
            "text/plain": [
              "<matplotlib.axes._subplots.AxesSubplot at 0x7f34b5f94c10>"
            ]
          },
          "metadata": {},
          "execution_count": 76
        },
        {
          "output_type": "display_data",
          "data": {
            "text/plain": [
              "<Figure size 432x288 with 1 Axes>"
            ],
            "image/png": "[encoded data removed]"
          },
          "metadata": {
            "needs_background": "light"
          }
        }
      ]
    },
    {
      "cell_type": "markdown",
      "source": [
        "# Night Time Analysis"
      ],
      "metadata": {
        "id": "OzuPDttU9k79"
      }
    },
    {
      "cell_type": "markdown",
      "source": [
        "**Total-Minutes in Night Affecting the Churn**"
      ],
      "metadata": {
        "id": "nztTQ3ddXQqg"
      }
    },
    {
      "cell_type": "code",
      "source": [
        "print('Maximum number of minutes:',df['Total night minutes'].max(),'i.e. Max number of Hours  spent:',round(df['Total night minutes'].max()/60))\n",
        "print('Minimum number of minutes:',df['Total night minutes'].min())\n",
        "print('Average number of minutes:',df['Total night minutes'].mean())"
      ],
      "metadata": {
        "colab": {
          "base_uri": "https://localhost:8080/"
        },
        "id": "HoxCZCJQ9oSM",
        "outputId": "251ac25c-9b9e-444f-d0c5-e8f1538c5a93"
      },
      "execution_count": null,
      "outputs": [
        {
          "output_type": "stream",
          "name": "stdout",
          "text": [
            "Maximum number of minutes: 395.0 i.e. Max number of Hours  spent: 7\n",
            "Minimum number of minutes: 23.2\n",
            "Average number of minutes: 200.87203720372048\n"
          ]
        }
      ]
    },
    {
      "cell_type": "code",
      "source": [
        "plt.show()\n",
        "df.boxplot(column='Total night minutes', by='Churn')"
      ],
      "metadata": {
        "colab": {
          "base_uri": "https://localhost:8080/"
        },
        "id": "5VeSfj4i9sye",
        "outputId": "fac06e3b-f4ce-4027-9710-d4c2c4711dd0"
      },
      "execution_count": null,
      "outputs": [
        {
          "output_type": "stream",
          "name": "stderr",
          "text": [
            "/usr/local/lib/python3.7/dist-packages/matplotlib/cbook/__init__.py:1376: VisibleDeprecationWarning: Creating an ndarray from ragged nested sequences (which is a list-or-tuple of lists-or-tuples-or ndarrays with different lengths or shapes) is deprecated. If you meant to do this, you must specify 'dtype=object' when creating the ndarray.\n",
            "  X = np.atleast_1d(X.T if isinstance(X, np.ndarray) else np.asarray(X))\n"
          ]
        },
        {
          "output_type": "execute_result",
          "data": {
            "text/plain": [
              "<matplotlib.axes._subplots.AxesSubplot at 0x7f34b5b68590>"
            ]
          },
          "metadata": {},
          "execution_count": 78
        },
        {
          "output_type": "display_data",
          "data": {
            "text/plain": [
              "<Figure size 432x288 with 1 Axes>"
            ],
            "image/png": "[encoded data removed]"
          },
          "metadata": {
            "needs_background": "light"
          }
        }
      ]
    },
    {
      "cell_type": "markdown",
      "source": [
        "**Total no of calls in night affecting the churn**"
      ],
      "metadata": {
        "id": "mqZG1O1xYApj"
      }
    },
    {
      "cell_type": "code",
      "source": [
        "print('Maximum number of calls:',df['Total night calls'].max())\n",
        "print('Minimum number of calls:',df['Total night calls'].min())\n",
        "print('Average number of calls:',df['Total night calls'].mean())"
      ],
      "metadata": {
        "colab": {
          "base_uri": "https://localhost:8080/"
        },
        "id": "Fq67a04D975G",
        "outputId": "a448909b-d125-4d21-c3f5-bf7a2715a3c9"
      },
      "execution_count": null,
      "outputs": [
        {
          "output_type": "stream",
          "name": "stdout",
          "text": [
            "Maximum number of calls: 175\n",
            "Minimum number of calls: 33\n",
            "Average number of calls: 100.10771077107711\n"
          ]
        }
      ]
    },
    {
      "cell_type": "code",
      "source": [
        "plt.show()\n",
        "df.boxplot(column='Total night calls', by='Churn')"
      ],
      "metadata": {
        "colab": {
          "base_uri": "https://localhost:8080/"
        },
        "id": "Otc-WeUU9-AA",
        "outputId": "cf32a603-968c-4fdc-986c-2d925d6f57f5"
      },
      "execution_count": null,
      "outputs": [
        {
          "output_type": "stream",
          "name": "stderr",
          "text": [
            "/usr/local/lib/python3.7/dist-packages/matplotlib/cbook/__init__.py:1376: VisibleDeprecationWarning: Creating an ndarray from ragged nested sequences (which is a list-or-tuple of lists-or-tuples-or ndarrays with different lengths or shapes) is deprecated. If you meant to do this, you must specify 'dtype=object' when creating the ndarray.\n",
            "  X = np.atleast_1d(X.T if isinstance(X, np.ndarray) else np.asarray(X))\n"
          ]
        },
        {
          "output_type": "execute_result",
          "data": {
            "text/plain": [
              "<matplotlib.axes._subplots.AxesSubplot at 0x7f34b5fb9dd0>"
            ]
          },
          "metadata": {},
          "execution_count": 80
        },
        {
          "output_type": "display_data",
          "data": {
            "text/plain": [
              "<Figure size 432x288 with 1 Axes>"
            ],
            "image/png": "[encoded data removed]"
          },
          "metadata": {
            "needs_background": "light"
          }
        }
      ]
    },
    {
      "cell_type": "markdown",
      "source": [
        "**Total Night charges affecting the churn rate.**"
      ],
      "metadata": {
        "id": "cc3DGzhwVoWK"
      }
    },
    {
      "cell_type": "code",
      "source": [
        "print('Maximum number of charge:',df['Total night charge'].max())\n",
        "print('Minimum number of charge:',df['Total night charge'].min())\n",
        "print('Average number of charge:',df['Total night charge'].mean())"
      ],
      "metadata": {
        "colab": {
          "base_uri": "https://localhost:8080/"
        },
        "id": "nyk49frY-EBV",
        "outputId": "f29f48e4-6208-43f4-ae79-f61f5237f996"
      },
      "execution_count": null,
      "outputs": [
        {
          "output_type": "stream",
          "name": "stdout",
          "text": [
            "Maximum number of charge: 17.77\n",
            "Minimum number of charge: 1.04\n",
            "Average number of charge: 9.039324932493264\n"
          ]
        }
      ]
    },
    {
      "cell_type": "code",
      "source": [
        "plt.show()\n",
        "df.boxplot(column='Total night charge', by='Churn')"
      ],
      "metadata": {
        "colab": {
          "base_uri": "https://localhost:8080/"
        },
        "id": "2PI4lzpP-Gd2",
        "outputId": "4e9535f0-efa0-4916-fae0-cb871b6790bf"
      },
      "execution_count": null,
      "outputs": [
        {
          "output_type": "stream",
          "name": "stderr",
          "text": [
            "/usr/local/lib/python3.7/dist-packages/matplotlib/cbook/__init__.py:1376: VisibleDeprecationWarning: Creating an ndarray from ragged nested sequences (which is a list-or-tuple of lists-or-tuples-or ndarrays with different lengths or shapes) is deprecated. If you meant to do this, you must specify 'dtype=object' when creating the ndarray.\n",
            "  X = np.atleast_1d(X.T if isinstance(X, np.ndarray) else np.asarray(X))\n"
          ]
        },
        {
          "output_type": "execute_result",
          "data": {
            "text/plain": [
              "<matplotlib.axes._subplots.AxesSubplot at 0x7f34b5b11810>"
            ]
          },
          "metadata": {},
          "execution_count": 82
        },
        {
          "output_type": "display_data",
          "data": {
            "text/plain": [
              "<Figure size 432x288 with 1 Axes>"
            ],
            "image/png": "[encoded data removed]"
          },
          "metadata": {
            "needs_background": "light"
          }
        }
      ]
    },
    {
      "cell_type": "markdown",
      "source": [
        "# International Calls Analysis"
      ],
      "metadata": {
        "id": "WBbq1q2G-KBf"
      }
    },
    {
      "cell_type": "markdown",
      "source": [
        "**Total-Minutes in International calls affecting the Churn**"
      ],
      "metadata": {
        "id": "_pt62Yb9ZPB4"
      }
    },
    {
      "cell_type": "code",
      "source": [
        "print('Maximum number of minutes:',df['Total intl minutes'].max(),'i.e. Max number of Hours  spent:',round(df['Total intl minutes'].max()/60))\n",
        "print('Minimum number of minutes:',df['Total intl minutes'].min())\n",
        "print('Average number of minutes:',df['Total intl minutes'].mean())"
      ],
      "metadata": {
        "colab": {
          "base_uri": "https://localhost:8080/"
        },
        "id": "hz4EpWff-OcO",
        "outputId": "db87a45d-5756-4827-d556-c92256501807"
      },
      "execution_count": null,
      "outputs": [
        {
          "output_type": "stream",
          "name": "stdout",
          "text": [
            "Maximum number of minutes: 20.0 i.e. Max number of Hours  spent: 0\n",
            "Minimum number of minutes: 0.0\n",
            "Average number of minutes: 10.237293729372933\n"
          ]
        }
      ]
    },
    {
      "cell_type": "code",
      "source": [
        "plt.show()\n",
        "df.boxplot(column='Total intl minutes', by='Churn')"
      ],
      "metadata": {
        "colab": {
          "base_uri": "https://localhost:8080/"
        },
        "id": "KHbZI3Vr-TQm",
        "outputId": "9539b355-e3f7-4cd3-bbb8-2d1216b177bb"
      },
      "execution_count": null,
      "outputs": [
        {
          "output_type": "stream",
          "name": "stderr",
          "text": [
            "/usr/local/lib/python3.7/dist-packages/matplotlib/cbook/__init__.py:1376: VisibleDeprecationWarning: Creating an ndarray from ragged nested sequences (which is a list-or-tuple of lists-or-tuples-or ndarrays with different lengths or shapes) is deprecated. If you meant to do this, you must specify 'dtype=object' when creating the ndarray.\n",
            "  X = np.atleast_1d(X.T if isinstance(X, np.ndarray) else np.asarray(X))\n"
          ]
        },
        {
          "output_type": "execute_result",
          "data": {
            "text/plain": [
              "<matplotlib.axes._subplots.AxesSubplot at 0x7f34b5949250>"
            ]
          },
          "metadata": {},
          "execution_count": 84
        },
        {
          "output_type": "display_data",
          "data": {
            "text/plain": [
              "<Figure size 432x288 with 1 Axes>"
            ],
            "image/png": "[encoded data removed]"
          },
          "metadata": {
            "needs_background": "light"
          }
        }
      ]
    },
    {
      "cell_type": "markdown",
      "source": [
        "**Total no of international calls affecting the churn**"
      ],
      "metadata": {
        "id": "w-s4ye41ZUQk"
      }
    },
    {
      "cell_type": "code",
      "source": [
        "print('Maximum number of calls:',df['Total intl calls'].max())\n",
        "print('Minimum number of calls:',df['Total intl calls'].min())\n",
        "print('Average number of calls:',df['Total intl calls'].mean())"
      ],
      "metadata": {
        "colab": {
          "base_uri": "https://localhost:8080/"
        },
        "id": "e2GQ6N-T-VT8",
        "outputId": "8128f95b-78f3-4b6d-8f02-a806424452d1"
      },
      "execution_count": null,
      "outputs": [
        {
          "output_type": "stream",
          "name": "stdout",
          "text": [
            "Maximum number of calls: 20\n",
            "Minimum number of calls: 0\n",
            "Average number of calls: 4.4794479447944795\n"
          ]
        }
      ]
    },
    {
      "cell_type": "code",
      "source": [
        "plt.show()\n",
        "df.boxplot(column='Total intl calls', by='Churn')"
      ],
      "metadata": {
        "colab": {
          "base_uri": "https://localhost:8080/"
        },
        "id": "0NtU9Qzm-X38",
        "outputId": "fbbf0d9d-d4ed-4c73-8cf1-416766a03eb2"
      },
      "execution_count": null,
      "outputs": [
        {
          "output_type": "stream",
          "name": "stderr",
          "text": [
            "/usr/local/lib/python3.7/dist-packages/matplotlib/cbook/__init__.py:1376: VisibleDeprecationWarning: Creating an ndarray from ragged nested sequences (which is a list-or-tuple of lists-or-tuples-or ndarrays with different lengths or shapes) is deprecated. If you meant to do this, you must specify 'dtype=object' when creating the ndarray.\n",
            "  X = np.atleast_1d(X.T if isinstance(X, np.ndarray) else np.asarray(X))\n"
          ]
        },
        {
          "output_type": "execute_result",
          "data": {
            "text/plain": [
              "<matplotlib.axes._subplots.AxesSubplot at 0x7f34b596e1d0>"
            ]
          },
          "metadata": {},
          "execution_count": 86
        },
        {
          "output_type": "display_data",
          "data": {
            "text/plain": [
              "<Figure size 432x288 with 1 Axes>"
            ],
            "image/png": "[encoded data removed]"
          },
          "metadata": {
            "needs_background": "light"
          }
        }
      ]
    },
    {
      "cell_type": "markdown",
      "source": [
        "**International charges affecting the churn**"
      ],
      "metadata": {
        "id": "-wANJErOZZsU"
      }
    },
    {
      "cell_type": "code",
      "source": [
        "print('Maximum number of charge:',df['Total intl charge'].max())\n",
        "print('Minimum number of charge:',df['Total intl charge'].min())\n",
        "print('Average number of charge:',df['Total intl charge'].mean())"
      ],
      "metadata": {
        "colab": {
          "base_uri": "https://localhost:8080/"
        },
        "id": "nVQ69I_a-aQU",
        "outputId": "f71465f1-eca0-42e3-ed9c-bf554242eae7"
      },
      "execution_count": null,
      "outputs": [
        {
          "output_type": "stream",
          "name": "stdout",
          "text": [
            "Maximum number of charge: 5.4\n",
            "Minimum number of charge: 0.0\n",
            "Average number of charge: 2.764581458145804\n"
          ]
        }
      ]
    },
    {
      "cell_type": "code",
      "source": [
        "plt.show()\n",
        "df.boxplot(column='Total intl charge', by='Churn')"
      ],
      "metadata": {
        "colab": {
          "base_uri": "https://localhost:8080/"
        },
        "id": "tvVBv0iU-da8",
        "outputId": "b63f06d9-5642-4032-ef52-85879b972e32"
      },
      "execution_count": null,
      "outputs": [
        {
          "output_type": "stream",
          "name": "stderr",
          "text": [
            "/usr/local/lib/python3.7/dist-packages/matplotlib/cbook/__init__.py:1376: VisibleDeprecationWarning: Creating an ndarray from ragged nested sequences (which is a list-or-tuple of lists-or-tuples-or ndarrays with different lengths or shapes) is deprecated. If you meant to do this, you must specify 'dtype=object' when creating the ndarray.\n",
            "  X = np.atleast_1d(X.T if isinstance(X, np.ndarray) else np.asarray(X))\n"
          ]
        },
        {
          "output_type": "execute_result",
          "data": {
            "text/plain": [
              "<matplotlib.axes._subplots.AxesSubplot at 0x7f34b58df550>"
            ]
          },
          "metadata": {},
          "execution_count": 88
        },
        {
          "output_type": "display_data",
          "data": {
            "text/plain": [
              "<Figure size 432x288 with 1 Axes>"
            ],
            "image/png": "[encoded data removed]"
          },
          "metadata": {
            "needs_background": "light"
          }
        }
      ]
    },
    {
      "cell_type": "markdown",
      "source": [
        "# Churn According to States"
      ],
      "metadata": {
        "id": "1O66zaMX-j5M"
      }
    },
    {
      "cell_type": "code",
      "source": [
        "# By Age\n",
        "import seaborn as sns\n",
        "fig, axz = plt.subplots(figsize=(20,15))\n",
        "\n",
        "axz = sns.countplot(x='State', hue='Churn', data=df, palette='Reds')\n",
        "\n",
        "\n",
        "axz.set_ylabel('COUNTS', rotation=0, labelpad=100,size=20)\n",
        "axz.set_xlabel('State', size=20)\n",
        "axz.yaxis.set_label_coords(0.05, 0.95)  # (x, y)\n",
        "axz.legend(loc=0,fontsize=20);\n",
        "\n",
        "axz.tick_params(labelsize=15)  # Changes size of the values on the label"
      ],
      "metadata": {
        "colab": {
          "base_uri": "https://localhost:8080/"
        },
        "id": "_Ur3p_eK-pJV",
        "outputId": "9a7e8d4f-ca37-4fc2-8e8f-2f869c60fc16"
      },
      "execution_count": null,
      "outputs": [
        {
          "output_type": "display_data",
          "data": {
            "text/plain": [
              "<Figure size 1440x1080 with 1 Axes>"
            ],
            "image/png": "[encoded data removed]"
          },
          "metadata": {
            "needs_background": "light"
          }
        }
      ]
    },
    {
      "cell_type": "markdown",
      "source": [
        "\n",
        "We can clearly see that NJ, TX, MD have the bit more churn rate than usual, A Network Upgradation would be strongly suggested in these areas"
      ],
      "metadata": {
        "id": "sSy6bVxZ_XOV"
      }
    },
    {
      "cell_type": "markdown",
      "source": [
        "# Churn because of Customer Service"
      ],
      "metadata": {
        "id": "dMYbzy_mZlZ6"
      }
    },
    {
      "cell_type": "code",
      "source": [
        "# Customer Calls\n",
        "fig, axz = plt.subplots(figsize=(20,15))\n",
        "\n",
        "axz = sns.countplot(x='Customer service calls', hue='Churn', data=df, palette='Reds')\n",
        "\n",
        "\n",
        "axz.set_ylabel('COUNTS', rotation=0, labelpad=100,size=20)\n",
        "axz.set_xlabel('Customer Service Calls', size=20)\n",
        "axz.yaxis.set_label_coords(-0.05, 0.95)  # (x, y)\n",
        "axz.legend(loc=0,fontsize=20);\n",
        "\n",
        "axz.tick_params(labelsize=15)  # Changes size of the values on the label"
      ],
      "metadata": {
        "colab": {
          "base_uri": "https://localhost:8080/"
        },
        "id": "ouGuBMTJA7Ul",
        "outputId": "34f212cb-a517-44ae-87f0-632844bc9f58"
      },
      "execution_count": null,
      "outputs": [
        {
          "output_type": "display_data",
          "data": {
            "text/plain": [
              "<Figure size 1440x1080 with 1 Axes>"
            ],
            "image/png": "[encoded data removed]"
          },
          "metadata": {
            "needs_background": "light"
          }
        }
      ]
    },
    {
      "cell_type": "markdown",
      "source": [
        "\n",
        "\n",
        "While some consumers are lazy and have switched to another network operator without resolving their issue, customers who have just contacted once have a high churn rate, indicating that their issue was not resolved on the first attempt. Some clients' problems remained unsolved even after multiple calls.\n",
        "\n",
        "1. In such circumstances, feedback is required.\n",
        "\n",
        "2. It should provide the customer assurance that their problem will be resolved in the first attempt."
      ],
      "metadata": {
        "id": "3Ik2prlkBAyX"
      }
    },
    {
      "cell_type": "code",
      "source": [
        ""
      ],
      "metadata": {
        "id": "rLhoaxcWoNQP"
      },
      "execution_count": null,
      "outputs": []
    },
    {
      "cell_type": "code",
      "source": [
        ""
      ],
      "metadata": {
        "id": "vlxN8Xk-odvJ"
      },
      "execution_count": null,
      "outputs": []
    }
  ]
}